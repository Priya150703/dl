{
  "nbformat": 4,
  "nbformat_minor": 0,
  "metadata": {
    "colab": {
      "provenance": []
    },
    "kernelspec": {
      "name": "python3",
      "display_name": "Python 3"
    },
    "language_info": {
      "name": "python"
    }
  },
  "cells": [
    {
      "cell_type": "code",
      "execution_count": null,
      "metadata": {
        "id": "QTXhrIwfBnsf"
      },
      "outputs": [],
      "source": [
        "#import the necessary packages\n",
        "from sklearn.preprocessing import LabelBinarizer\n",
        "from sklearn.metrics import classification_report\n",
        "from tensorflow.keras.models import Sequential\n",
        "from tensorflow.keras.layers import Dense\n",
        "from tensorflow.keras.optimizers import SGD\n",
        "from tensorflow.keras.datasets import cifar10\n",
        "import matplotlib.pyplot as plt\n",
        "import numpy as np"
      ]
    },
    {
      "cell_type": "code",
      "source": [
        "# load the training and testing data, scale it into the range [0, 1],\n",
        "# then reshape the design matrix\n",
        "print(\"[INFO] accessing CIFAR10...\")\n",
        "((trainX, trainY), (testX, testY)) = cifar10.load_data()  # Load CIFAR-10 dataset into training and testing sets\n",
        "trainX = trainX.astype(\"float\") / 255.0                    # Scale the training data to the range [0, 1]\n",
        "testX = testX.astype(\"float\") / 255.0                      # Scale the testing data to the range [0, 1]\n",
        "trainX = trainX.reshape((trainX.shape[0], 3072))           # Reshape the training data to have 3072 features (32x32x3)\n",
        "testX = testX.reshape((testX.shape[0], 3072))             # Reshape the testing data to have 3072 features (32x32x3)\n"
      ],
      "metadata": {
        "id": "82NwewBHBrQ9"
      },
      "execution_count": null,
      "outputs": []
    },
    {
      "cell_type": "code",
      "source": [
        "# convert the labels from integers to vectors\n",
        "lb = LabelBinarizer()                                   # Create a LabelBinarizer object\n",
        "trainY = lb.fit_transform(trainY)                       # Transform and binarize the training labels\n",
        "testY = lb.transform(testY)                             # Transform and binarize the testing labels\n",
        "\n",
        "# Initialize the label names for the CIFAR-10 dataset\n",
        "labelNames = [\"airplane\", \"automobile\", \"bird\", \"cat\", \"deer\", \"dog\",\n",
        "              \"frog\",\"horse\", \"ship\", \"truck\"]"
      ],
      "metadata": {
        "id": "HdiqhsL9CsMC"
      },
      "execution_count": null,
      "outputs": []
    },
    {
      "cell_type": "code",
      "source": [
        "# Add layers to the model\n",
        "model = Sequential()\n",
        "model.add(Dense(1024, input_shape=(3072,), activation=\"relu\"))  # Add a dense layer with 1024 units and ReLU activation function\n",
        "model.add(Dense(512, activation=\"relu\"))                        # Add another dense layer with 512 units and ReLU activation function\n",
        "model.add(Dense(10, activation=\"softmax\"))                      # Add a dense layer with 10 units and softmax activation function"
      ],
      "metadata": {
        "id": "B4QAtgf8CxGJ"
      },
      "execution_count": null,
      "outputs": []
    },
    {
      "cell_type": "code",
      "source": [
        "# train the model using SGD\n",
        "print(\"[INFO] training network...\")\n",
        "sgd = SGD(0.01)                                               # Initialize SGD optimizer with learning rate 0.01\n",
        "model.compile(loss=\"categorical_crossentropy\", optimizer=sgd,\n",
        "              metrics=[\"accuracy\"])  # Compile the model with categorical crossentropy loss and accuracy metric\n",
        "# Train the model using the training data and validate it using the testing data\n",
        "H = model.fit(trainX, trainY, validation_data=(testX, testY),\n",
        "              epochs=10, batch_size=32)  # Train the model for 50 epochs with batch size 32"
      ],
      "metadata": {
        "id": "7x1I3rb5C4WN"
      },
      "execution_count": null,
      "outputs": []
    },
    {
      "cell_type": "code",
      "source": [
        "# evaluate the network\n",
        "print(\"[INFO] evaluating network...\")\n",
        "predictions = model.predict(testX, batch_size=32) # Make predictions on the testing data\n",
        "print(classification_report(testY.argmax(axis=1),\n",
        "\tpredictions.argmax(axis=1), target_names=labelNames)) # Print classification report"
      ],
      "metadata": {
        "id": "uzQhfwtWC8DR"
      },
      "execution_count": null,
      "outputs": []
    },
    {
      "cell_type": "code",
      "source": [
        "# Plot the training loss and accuracy\n",
        "plt.style.use(\"ggplot\")                             # Set the style for the plot\n",
        "plt.figure()                                        # Create a new figure for the plot\n",
        "plt.plot(np.arange(0, 10), H.history[\"loss\"], label=\"train_loss\")                # Plot training loss\n",
        "plt.plot(np.arange(0, 10), H.history[\"val_loss\"], label=\"val_loss\")            # Plot validation loss\n",
        "plt.plot(np.arange(0, 10), H.history[\"accuracy\"], label=\"train_acc\")          # Plot training accuracy\n",
        "plt.plot(np.arange(0, 10), H.history[\"val_accuracy\"], label=\"val_acc\")      # Plot validation accuracy\n",
        "plt.title(\"Training Loss and Accuracy\")                                       # Set the title of the plot\n",
        "plt.xlabel(\"Epoch #\")                                                        # Label x-axis as \"Epoch #\"\n",
        "plt.ylabel(\"Loss/Accuracy\")                                                 # Label y-axis as \"Loss/Accuracy\"\n",
        "plt.legend()                                                                # Show legend on the plot"
      ],
      "metadata": {
        "id": "IuPZLxeSDAtM"
      },
      "execution_count": null,
      "outputs": []
    }
  ]
}